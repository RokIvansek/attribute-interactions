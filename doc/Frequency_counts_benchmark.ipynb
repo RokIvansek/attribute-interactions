{
 "cells": [
  {
   "cell_type": "markdown",
   "metadata": {},
   "source": [
    "# Speed testing of frequency counts"
   ]
  },
  {
   "cell_type": "code",
   "execution_count": 2,
   "metadata": {
    "collapsed": true
   },
   "outputs": [],
   "source": [
    "import Orange\n",
    "from scipy.stats import itemfreq\n",
    "from pandas import crosstab\n",
    "from numpy_indexed.funcs import count_table\n",
    "import numpy as np\n",
    "import timeit\n",
    "\n",
    "def wrapper(func, *args, **kwargs):\n",
    "    def wrapped():\n",
    "        return func(*args, **kwargs)\n",
    "    return wrapped"
   ]
  },
  {
   "cell_type": "code",
   "execution_count": 3,
   "metadata": {
    "collapsed": true
   },
   "outputs": [],
   "source": [
    "no_samples = 100000\n",
    "no_unique_values = 100"
   ]
  },
  {
   "cell_type": "markdown",
   "metadata": {},
   "source": [
    "## Testing for an array with 1 column"
   ]
  },
  {
   "cell_type": "code",
   "execution_count": 6,
   "metadata": {
    "collapsed": false
   },
   "outputs": [
    {
     "name": "stdout",
     "output_type": "stream",
     "text": [
      "Orange binount: 0.00039311000000452623\n",
      "Numpy unique: 0.0052230620000083645\n",
      "Numpy bincount: 0.0002738416666640357\n",
      "Scipy itemfreq: 0.009950036000001697\n",
      "Numpy_indexed count_table: 0.025874018999995013\n",
      "Pandas crosstab: 0.04655286700000261\n"
     ]
    }
   ],
   "source": [
    "x = np.array(np.random.randint(no_unique_values, size=no_samples)).T.astype(np.float32)\n",
    "\n",
    "wrapped = wrapper(Orange.statistics.util.bincount, x)\n",
    "print(\"Orange binount:\", timeit.timeit(wrapped, number=3) / 3)\n",
    "\n",
    "wrapped = wrapper(np.unique, x, return_counts=True)\n",
    "print(\"Numpy unique:\", timeit.timeit(wrapped, number=3) / 3)\n",
    "\n",
    "wrapped = wrapper(np.bincount, x.astype(np.int32, copy=False))\n",
    "print(\"Numpy bincount:\", timeit.timeit(wrapped, number=3) / 3)\n",
    "\n",
    "wrapped = wrapper(itemfreq, x)\n",
    "print(\"Scipy itemfreq:\", timeit.timeit(wrapped, number=3) / 3)\n",
    "\n",
    "wrapped = wrapper(count_table, x)\n",
    "print(\"Numpy_indexed count_table:\", timeit.timeit(wrapped, number=3) / 3)\n",
    "\n",
    "wrapped = wrapper(crosstab, x, 'freq')\n",
    "print(\"Pandas crosstab:\", timeit.timeit(wrapped, number=3) / 3)"
   ]
  },
  {
   "cell_type": "markdown",
   "metadata": {},
   "source": [
    "## Testing for an array with 2 columns"
   ]
  },
  {
   "cell_type": "code",
   "execution_count": 9,
   "metadata": {
    "collapsed": false
   },
   "outputs": [
    {
     "name": "stdout",
     "output_type": "stream",
     "text": [
      "Orange contingency: 0.011879872999998042\n",
      "Numpy unique: 0.035038583999873175\n",
      "Numpy_indexed count_table: 0.02883348799999415\n",
      "Pandas crosstab: 0.3573879576665604\n"
     ]
    }
   ],
   "source": [
    "x = np.array([np.random.randint(no_unique_values, size=no_samples) for i in range(2)]).T.astype(np.float32)\n",
    "\n",
    "def unique_count(*a):\n",
    "    no_att = len(a)\n",
    "    M = np.column_stack(a)\n",
    "    M_cont = np.ascontiguousarray(M).view(np.dtype((np.void, M.dtype.itemsize * no_att)))\n",
    "    return np.unique(M_cont, return_counts=True)\n",
    "\n",
    "wrapped = wrapper(Orange.statistics.util.contingency, x[:,0], x[:,1])\n",
    "print(\"Orange contingency:\", timeit.timeit(wrapped, number=3) / 3)\n",
    "\n",
    "wrapped = wrapper(unique_count, x[:,0], x[:,1])\n",
    "print(\"Numpy unique:\", timeit.timeit(wrapped, number=3) / 3)\n",
    "\n",
    "wrapped = wrapper(count_table, x[:,0], x[:,1])\n",
    "print(\"Numpy_indexed count_table:\", timeit.timeit(wrapped, number=3) / 3)\n",
    "\n",
    "wrapped = wrapper(crosstab, x[:,0], x[:,1])\n",
    "print(\"Pandas crosstab:\", timeit.timeit(wrapped, number=3) / 3)"
   ]
  },
  {
   "cell_type": "markdown",
   "metadata": {},
   "source": [
    "## Testing for an array with 3 or more columns"
   ]
  },
  {
   "cell_type": "code",
   "execution_count": 8,
   "metadata": {
    "collapsed": false
   },
   "outputs": [
    {
     "name": "stdout",
     "output_type": "stream",
     "text": [
      "Numpy unique: 0.04339484199999788\n",
      "Numpy_indexed count_table: 0.0477379963332775\n",
      "Pandas crosstab: 3.3469604909999666\n"
     ]
    }
   ],
   "source": [
    "x = np.array([np.random.randint(no_unique_values, size=no_samples) for i in range(3)]).T.astype(np.float32)\n",
    "\n",
    "wrapped = wrapper(unique_count, x[:,0], x[:,1], x[:,2])\n",
    "print(\"Numpy unique:\", timeit.timeit(wrapped, number=3) / 3)\n",
    "\n",
    "wrapped = wrapper(count_table, x[:,0], x[:,1], x[:,2])\n",
    "print(\"Numpy_indexed count_table:\", timeit.timeit(wrapped, number=3) / 3)\n",
    "\n",
    "wrapped = wrapper(crosstab, x[:,0], [x[:,1], x[:,2]])\n",
    "print(\"Pandas crosstab:\", timeit.timeit(wrapped, number=3) / 3)"
   ]
  },
  {
   "cell_type": "code",
   "execution_count": null,
   "metadata": {
    "collapsed": true
   },
   "outputs": [],
   "source": []
  }
 ],
 "metadata": {
  "kernelspec": {
   "display_name": "Python 3",
   "language": "python",
   "name": "python3"
  },
  "language_info": {
   "codemirror_mode": {
    "name": "ipython",
    "version": 3
   },
   "file_extension": ".py",
   "mimetype": "text/x-python",
   "name": "python",
   "nbconvert_exporter": "python",
   "pygments_lexer": "ipython3",
   "version": "3.5.2"
  }
 },
 "nbformat": 4,
 "nbformat_minor": 1
}
