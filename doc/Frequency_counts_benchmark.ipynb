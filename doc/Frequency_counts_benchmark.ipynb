{
 "cells": [
  {
   "cell_type": "markdown",
   "metadata": {},
   "source": [
    "# Speed testing of frequency counts"
   ]
  },
  {
   "cell_type": "code",
   "execution_count": 18,
   "metadata": {
    "collapsed": true
   },
   "outputs": [],
   "source": [
    "import Orange\n",
    "from scipy.stats import itemfreq\n",
    "import numpy as np\n",
    "import timeit\n",
    "\n",
    "def wrapper(func, *args, **kwargs):\n",
    "    def wrapped():\n",
    "        return func(*args, **kwargs)\n",
    "    return wrapped"
   ]
  },
  {
   "cell_type": "code",
   "execution_count": 54,
   "metadata": {
    "collapsed": true
   },
   "outputs": [],
   "source": [
    "no_samples = 100000\n",
    "no_unique_values = 100"
   ]
  },
  {
   "cell_type": "markdown",
   "metadata": {},
   "source": [
    "## Testing for an array with 1 column"
   ]
  },
  {
   "cell_type": "code",
   "execution_count": 50,
   "metadata": {
    "collapsed": false
   },
   "outputs": [
    {
     "name": "stdout",
     "output_type": "stream",
     "text": [
      "Orange binount: 0.008274422999875242\n",
      "Numpy unique: 0.05659247166674201\n",
      "Scipy itemfreq: 0.1377524246666629\n"
     ]
    }
   ],
   "source": [
    "x = np.array(np.random.randint(no_unique_values, size=no_samples)).T.astype(np.float32)\n",
    "\n",
    "wrapped = wrapper(Orange.statistics.util.bincount, x)\n",
    "print(\"Orange binount:\", timeit.timeit(wrapped, number=3) / 3)\n",
    "\n",
    "wrapped = wrapper(np.unique, x, return_counts=True)\n",
    "print(\"Numpy unique:\", timeit.timeit(wrapped, number=3) / 3)\n",
    "\n",
    "wrapped = wrapper(itemfreq, x)\n",
    "print(\"Scipy itemfreq:\", timeit.timeit(wrapped, number=3) / 3)"
   ]
  },
  {
   "cell_type": "markdown",
   "metadata": {},
   "source": [
    "## Testing for an array with 2 columns"
   ]
  },
  {
   "cell_type": "code",
   "execution_count": 51,
   "metadata": {
    "collapsed": false
   },
   "outputs": [
    {
     "name": "stdout",
     "output_type": "stream",
     "text": [
      "Orange contingency: 0.12143596499997027\n",
      "Numpy unique: 0.36810736699999325\n"
     ]
    }
   ],
   "source": [
    "x = np.array([np.random.randint(no_unique_values, size=no_samples) for i in range(2)]).T.astype(np.float32)\n",
    "\n",
    "def unique_count(*a):\n",
    "    no_att = len(a)\n",
    "    M = np.column_stack(a)\n",
    "    M_cont = np.ascontiguousarray(M).view(np.dtype((np.void, M.dtype.itemsize * no_att)))\n",
    "    return np.unique(M_cont, return_counts=True)\n",
    "\n",
    "wrapped = wrapper(Orange.statistics.util.contingency, x[:,0], x[:,1])\n",
    "print(\"Orange contingency:\", timeit.timeit(wrapped, number=3) / 3)\n",
    "\n",
    "wrapped = wrapper(unique_count, x[:,0], x[:,1])\n",
    "print(\"Numpy unique:\", timeit.timeit(wrapped, number=3) / 3)"
   ]
  },
  {
   "cell_type": "markdown",
   "metadata": {},
   "source": [
    "## Testing for an array with 3 or more columns"
   ]
  },
  {
   "cell_type": "code",
   "execution_count": 52,
   "metadata": {
    "collapsed": false
   },
   "outputs": [
    {
     "name": "stdout",
     "output_type": "stream",
     "text": [
      "Numpy unique: 0.48144968199994764\n"
     ]
    }
   ],
   "source": [
    "x = np.array([np.random.randint(no_unique_values, size=no_samples) for i in range(3)]).T.astype(np.float32)\n",
    "\n",
    "wrapped = wrapper(unique_count, x[:,0], x[:,1], x[:,2])\n",
    "print(\"Numpy unique:\", timeit.timeit(wrapped, number=3) / 3)"
   ]
  },
  {
   "cell_type": "code",
   "execution_count": 53,
   "metadata": {
    "collapsed": false
   },
   "outputs": [
    {
     "name": "stdout",
     "output_type": "stream",
     "text": [
      "Numpy unique: 0.627787733666537\n"
     ]
    }
   ],
   "source": [
    "x = np.array([np.random.randint(no_unique_values, size=no_samples) for i in range(10)]).T.astype(np.float32)\n",
    "\n",
    "wrapped = wrapper(unique_count, x[:,0], x[:,1], x[:,2], x[:,3], x[:,4], x[:,5], x[:,6], x[:,7], x[:,8], x[:,9])\n",
    "print(\"Numpy unique:\", timeit.timeit(wrapped, number=3) / 3)"
   ]
  },
  {
   "cell_type": "code",
   "execution_count": null,
   "metadata": {
    "collapsed": true
   },
   "outputs": [],
   "source": []
  }
 ],
 "metadata": {
  "kernelspec": {
   "display_name": "Python 3",
   "language": "python",
   "name": "python3"
  },
  "language_info": {
   "codemirror_mode": {
    "name": "ipython",
    "version": 3
   },
   "file_extension": ".py",
   "mimetype": "text/x-python",
   "name": "python",
   "nbconvert_exporter": "python",
   "pygments_lexer": "ipython3",
   "version": "3.5.2"
  }
 },
 "nbformat": 4,
 "nbformat_minor": 1
}
